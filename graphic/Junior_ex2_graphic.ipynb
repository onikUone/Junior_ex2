{
 "cells": [
  {
   "cell_type": "code",
   "execution_count": 22,
   "metadata": {
    "scrolled": false
   },
   "outputs": [
    {
     "data": {
      "image/png": "[encoded data removed]",
      "text/plain": [
       "<Figure size 720x360 with 2 Axes>"
      ]
     },
     "metadata": {},
     "output_type": "display_data"
    }
   ],
   "source": [
    "# -*- coding: utf-8 -*-\n",
    "import matplotlib.pyplot as plt\n",
    "import matplotlib.ticker as ticker\n",
    "import numpy as np\n",
    "\n",
    "# データセット初期化\n",
    "dataX1_ofDataset = np.asarray([], dtype=np.float64)\n",
    "dataX2_ofDataset = np.asarray([], dtype=np.float64)\n",
    "dataY1_ofDataset = np.asarray([], dtype=np.float64)\n",
    "dataY2_ofDataset = np.asarray([], dtype=np.float64)\n",
    "dataY3_ofDataset = np.asarray([], dtype=np.float64)\n",
    "\n",
    "# ---------------ファイル読み込み開始---------------\n",
    "    #Mac(ノートPC)環境用パス\n",
    "dataset_path = '/Users/Uone/IDrive/OPU/研究フォルダ/Junior_ex2/eclipse_workspace/Junior_ex2/src/kadai2.dat'\n",
    "    #研究室 Windows環境用パス\n",
    "# dataset_path = 'C:\\\\Users\\\\Yuichi Omozaki\\\\IDrive\\\\Junior_ex2\\\\eclipse_workspace\\\\Junior_ex2\\\\src\\\\kadai2.dat'\n",
    "for line in open(dataset_path, 'r'):\n",
    "    dataX1_ofDataset = np.append( dataX1_ofDataset, line[:-1].split(' ')[0] )\n",
    "    dataX2_ofDataset = np.append( dataX2_ofDataset, line[:-1].split(' ')[1] )\n",
    "    dataY1_ofDataset = np.append( dataY1_ofDataset, line[:-1].split(' ')[2] )\n",
    "    dataY2_ofDataset = np.append( dataY2_ofDataset, line[:-1].split(' ')[3] )\n",
    "    dataY3_ofDataset = np.append( dataY3_ofDataset, line[:-1].split(' ')[4] )\n",
    "\n",
    "dataX1_ofDataset = dataX1_ofDataset.astype(np.float64) #型変換\n",
    "dataX2_ofDataset = dataX2_ofDataset.astype(np.float64) #\n",
    "dataY1_ofDataset = dataY1_ofDataset.astype(np.float64) #\n",
    "dataY2_ofDataset = dataY2_ofDataset.astype(np.float64) #\n",
    "dataY3_ofDataset = dataY3_ofDataset.astype(np.float64) #\n",
    "# ---------------ファイル読み込み完了---------------\n",
    "\n",
    "\n",
    "# データセット描画\n",
    "fig_dataset = plt.figure(figsize=(10,5))\n",
    "axes_dataset = fig_dataset.add_subplot(121)\n",
    "axes_dataset.set_title(\"inputData.dat\")\n",
    "axes_dataset.scatter(dataX1_ofDataset, dataX2_ofDataset, label=\"inputData\")\n",
    "axes_dataset.legend()\n",
    "axes_dataset.set_xlabel(\"x1\")\n",
    "axes_dataset.set_ylabel(\"x2\")\n",
    "axes_dataset.set_xlim([0.0, 1.0])\n",
    "axes_dataset.set_ylim([0.0, 1.0])\n",
    "axes_dataset.tick_params(axis='both', direction='in', bottom=True, top=True, left=True, right=True)\n",
    "axes_dataset.tick_params(axis='both', which='major', length=6)\n",
    "\n",
    "# データセット初期化\n",
    "dataX1 = np.asarray([], dtype=np.float64)\n",
    "dataX2 = np.asarray([], dtype=np.float64)\n",
    "# ---------------ファイル読み込み開始---------------\n",
    "    #Mac(ノートPC)環境用パス\n",
    "border_path = '/Users/Uone/IDrive/OPU/研究フォルダ/Junior_ex2/eclipse_workspace/Junior_ex2/src/border.dat'\n",
    "    #研究室 Windows環境用パス\n",
    "# border_path = 'C:\\\\Users\\\\Yuichi Omozaki\\\\IDrive\\\\Junior_ex2\\\\eclipse_workspace\\\\Junior_ex2\\\\src\\\\border.dat'\n",
    "for line in open(border_path, 'r'):\n",
    "    dataX1 = np.append( dataX1, line[:-2].split('\\t')[0] )\n",
    "    dataX2 = np.append( dataX2, line[:-2].split('\\t')[1] )\n",
    "\n",
    "dataX1 = dataX1.astype(np.float64) #型変換\n",
    "dataX2 = dataX2.astype(np.float64) #\n",
    "# ---------------ファイル読み込み完了---------------\n",
    "\n",
    "# データセット描画\n",
    "axes_trained = fig_dataset.add_subplot(122)\n",
    "axes_trained.set_title(\"border.dat\")\n",
    "axes_trained.scatter(dataX1_ofDataset, dataX2_ofDataset, label=\"inputData\")\n",
    "axes_trained.scatter(dataX1, dataX2, label=\"border_of_Class\")\n",
    "axes_trained.legend()\n",
    "axes_trained.set_xlabel(\"x1\")\n",
    "axes_trained.set_ylabel(\"x2\")\n",
    "axes_trained.set_xlim([0.0, 1.0])\n",
    "axes_trained.set_ylim([0.0, 1.0])\n",
    "axes_trained.tick_params(axis='both', direction='in', bottom=True, top=True, left=True, right=True)\n",
    "axes_trained.tick_params(axis='both', which='major', length=6)\n",
    "\n",
    "\n",
    "# fig_dataset.show()"
   ]
  },
  {
   "cell_type": "code",
   "execution_count": null,
   "metadata": {},
   "outputs": [],
   "source": []
  },
  {
   "cell_type": "code",
   "execution_count": null,
   "metadata": {},
   "outputs": [],
   "source": []
  }
 ],
 "metadata": {
  "kernelspec": {
   "display_name": "Python 3",
   "language": "python",
   "name": "python3"
  },
  "language_info": {
   "codemirror_mode": {
    "name": "ipython",
    "version": 3
   },
   "file_extension": ".py",
   "mimetype": "text/x-python",
   "name": "python",
   "nbconvert_exporter": "python",
   "pygments_lexer": "ipython3",
   "version": "3.6.5"
  }
 },
 "nbformat": 4,
 "nbformat_minor": 2
}
